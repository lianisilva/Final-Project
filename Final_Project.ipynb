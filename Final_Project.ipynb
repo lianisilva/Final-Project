{
  "nbformat": 4,
  "nbformat_minor": 0,
  "metadata": {
    "colab": {
      "name": "Final Project",
      "provenance": [],
      "authorship_tag": "ABX9TyNrazmj8UXwUVic948nmUSa",
      "include_colab_link": true
    },
    "kernelspec": {
      "name": "python3",
      "display_name": "Python 3"
    },
    "language_info": {
      "name": "python"
    }
  },
  "cells": [
    {
      "cell_type": "markdown",
      "metadata": {
        "id": "view-in-github",
        "colab_type": "text"
      },
      "source": [
        "<a href=\"https://colab.research.google.com/github/lianisilva/Final-Project/blob/main/Final_Project.ipynb\" target=\"_parent\"><img src=\"https://colab.research.google.com/assets/colab-badge.svg\" alt=\"Open In Colab\"/></a>"
      ]
    },
    {
      "cell_type": "code",
      "metadata": {
        "id": "KzxNr5Jpkz3O"
      },
      "source": [
        "%reset -f"
      ],
      "execution_count": 39,
      "outputs": []
    },
    {
      "cell_type": "code",
      "metadata": {
        "id": "UvhxzPmk-yR4",
        "colab": {
          "base_uri": "https://localhost:8080/",
          "height": 283
        },
        "outputId": "eef8032a-ad69-4115-a352-6b3d49854023"
      },
      "source": [
        "import numpy as np\n",
        "import matplotlib.pyplot as plt\n",
        "\n",
        "#initialize the velocity components of each particle as an array of the x an y components, assign masses, calculate slopes and velocity vectors\n",
        "v1C = [1, 4]\n",
        "v2C = [3, -5]\n",
        "v1 = np.sqrt(v1C[0]**2 + v1C[1]**2)\n",
        "v2 = -np.sqrt(v2C[0]**2 + v2C[1]**2)\n",
        "slope1 = v1C[1] / v1C[0]\n",
        "slope2 = v2C[1] / v2C[0]\n",
        "m1 = 10\n",
        "m2 = 20\n",
        "\n",
        "domain = 5\n",
        "\n",
        "#initialize the arrays to be used for graphing, make the first point 0 so they all converge on the center\n",
        "x1Points = [0]\n",
        "y1Points = [0]\n",
        "x2Points = [0]\n",
        "y2Points = [0]\n",
        "\n",
        "newXpoints = [0]\n",
        "newYpoints = [0]\n",
        "newY1points = [0]\n",
        "newY2points = [0]\n",
        "\n",
        "def inelastic():\n",
        "  return (m1 * v1 + m2 * v2) / (m1 + m2)\n",
        "\n",
        "def elastic():\n",
        "  newV1 = v1*(m1 - m2)/(m1 + m2) + v2*(2*m2)/(m1 + m2)\n",
        "  newV2 = v1 + newV1 - v2\n",
        "  return [newV1, newV2]\n",
        "\n",
        "type = input(\"what type of collision would you like to see? \")\n",
        "if type.lower() == 'inelastic':\n",
        "  newV = inelastic()\n",
        "else:\n",
        "  newV1 = elastic()[0]\n",
        "  newV2 = elastic()[1]\n",
        "\n",
        "#add points to the data arrays, make sure the x values are negative for the incoming particles (left side of graph) and positive for the resulting particle(s) (right side)\n",
        "for i in range(domain):\n",
        "  x1Points.append(-i)\n",
        "  y1Points.append(-slope1 * i)\n",
        "  x2Points.append(-i)\n",
        "  y2Points.append(-slope2 * i)\n",
        "\n",
        "  newXpoints.append(i)\n",
        "  if type.lower() == 'inelastic':\n",
        "    newYpoints.append(newV*i)\n",
        "  else:\n",
        "    newY1points.append(newV1*i)\n",
        "    newY2points.append(newV2*i)\n",
        "\n",
        "#use this to see the variables, use newV for inelastic and newV1 + newV2 for elastic collisions\n",
        "#print(\"mass 1 =\", m1, \" mass 2 =\", m2, \" velocity 1 =\", v1, \" velocity 2 =\", v2, \" new velocity =\", newV)\n",
        "\n",
        "plt.plot(x1Points, y1Points, 'cornflowerblue', label = '1')\n",
        "plt.plot(x2Points, y2Points, 'mediumorchid', label = '2')\n",
        "if type.lower() == 'inelastic':\n",
        "  plt.plot(newXpoints, newYpoints, \"salmon\", label = '3')\n",
        "else:\n",
        "  plt.plot(newXpoints, newY1points, \"salmon\", label = '1')\n",
        "  plt.plot(newXpoints, newY2points, \"orange\", label = '2')\n",
        "plt.axhline()\n",
        "plt.axvline()\n",
        "plt.grid()\n",
        "plt.legend()\n",
        "plt.show()\n"
      ],
      "execution_count": 44,
      "outputs": [
        {
          "output_type": "stream",
          "text": [
            "what type of collision would you like to see? elastic\n"
          ],
          "name": "stdout"
        },
        {
          "output_type": "display_data",
          "data": {
            "image/png": "[encoded data removed]",
            "text/plain": [
              "<Figure size 432x288 with 1 Axes>"
            ]
          },
          "metadata": {
            "tags": [],
            "needs_background": "light"
          }
        }
      ]
    }
  ]
}