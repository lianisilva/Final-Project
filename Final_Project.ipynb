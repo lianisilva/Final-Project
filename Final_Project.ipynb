{
  "nbformat": 4,
  "nbformat_minor": 0,
  "metadata": {
    "colab": {
      "name": "Final Project",
      "provenance": [],
      "authorship_tag": "ABX9TyP9Y7fWBJ/FvuWt1tfbRMmg",
      "include_colab_link": true
    },
    "kernelspec": {
      "name": "python3",
      "display_name": "Python 3"
    },
    "language_info": {
      "name": "python"
    }
  },
  "cells": [
    {
      "cell_type": "markdown",
      "metadata": {
        "id": "view-in-github",
        "colab_type": "text"
      },
      "source": [
        "<a href=\"https://colab.research.google.com/github/lianisilva/Final-Project/blob/main/Final_Project.ipynb\" target=\"_parent\"><img src=\"https://colab.research.google.com/assets/colab-badge.svg\" alt=\"Open In Colab\"/></a>"
      ]
    },
    {
      "cell_type": "code",
      "metadata": {
        "id": "UvhxzPmk-yR4",
        "colab": {
          "base_uri": "https://localhost:8080/",
          "height": 283
        },
        "outputId": "05251871-f1b5-4004-c37e-1b188cb83f7c"
      },
      "source": [
        "import numpy as np\n",
        "import matplotlib.pyplot as plt\n",
        "\n",
        "#initialize the velocity of each particle as an array of the x an y components, assign masses and calculate slope\n",
        "v1 = [1, 4]\n",
        "v2 = [3, -5]\n",
        "slope1 = v1[1] / v1[0]\n",
        "slope2 = v2[1] / v2[0]\n",
        "m1 = 10\n",
        "m2 = 20\n",
        "\n",
        "domain = 10\n",
        "\n",
        "x1Points = [0]\n",
        "y1Points = [0]\n",
        "x2Points = [0]\n",
        "y2Points = [0]\n",
        "\n",
        "newXpoints = [0]\n",
        "newYpoints = [0]\n",
        "\n",
        "newV = np.sqrt(((m1 * v1[0] + m2 * v2[0]) / (m1 + m2))**2 + ((m1 * v1[1] + m2 * v2[1]) / (m1 + m2))**2)\n",
        "\n",
        "for i in range(domain):\n",
        "  x1Points.append(-i)\n",
        "  y1Points.append(slope1 * i)\n",
        "  x2Points.append(-i)\n",
        "  y2Points.append(slope2 * i)\n",
        "\n",
        "  newXpoints.append(i)\n",
        "  newYpoints.append(newV*i)\n",
        "\n",
        "plt.plot(x1Points, y1Points, 'cornflowerblue')\n",
        "plt.plot(x2Points, y2Points, 'mediumorchid')\n",
        "plt.plot(newXpoints, newYpoints, \"salmon\")\n",
        "plt.axhline()\n",
        "plt.axvline()\n",
        "plt.grid()\n",
        "plt.show()"
      ],
      "execution_count": 14,
      "outputs": [
        {
          "output_type": "stream",
          "text": [
            "3.0731814857642963\n"
          ],
          "name": "stdout"
        },
        {
          "output_type": "display_data",
          "data": {
            "image/png": "[encoded data removed]",
            "text/plain": [
              "<Figure size 432x288 with 1 Axes>"
            ]
          },
          "metadata": {
            "tags": [],
            "needs_background": "light"
          }
        }
      ]
    },
    {
      "cell_type": "markdown",
      "metadata": {
        "id": "C9SDJHC613RP"
      },
      "source": [
        "for both the x and y components\n",
        "\n",
        "inelastic: m1v1 + m2v2 = (m1 + m2)v'\n",
        "\n",
        "elastic: m1v1 + m2v2 = m1v'1 + m2v'2"
      ]
    }
  ]
}