{
  "nbformat": 4,
  "nbformat_minor": 0,
  "metadata": {
    "colab": {
      "name": "Final Project",
      "provenance": [],
      "authorship_tag": "ABX9TyN/KNI1z2O6nxa4Uq6iDlgy",
      "include_colab_link": true
    },
    "kernelspec": {
      "name": "python3",
      "display_name": "Python 3"
    },
    "language_info": {
      "name": "python"
    }
  },
  "cells": [
    {
      "cell_type": "markdown",
      "metadata": {
        "id": "view-in-github",
        "colab_type": "text"
      },
      "source": [
        "<a href=\"https://colab.research.google.com/github/lianisilva/Final-Project/blob/main/Final_Project.ipynb\" target=\"_parent\"><img src=\"https://colab.research.google.com/assets/colab-badge.svg\" alt=\"Open In Colab\"/></a>"
      ]
    },
    {
      "cell_type": "code",
      "metadata": {
        "id": "242Z5DLrylt2",
        "colab": {
          "base_uri": "https://localhost:8080/",
          "height": 239
        },
        "outputId": "7829cab3-af4a-4d09-e0e5-d26d0e7dee6e"
      },
      "source": [
        "import numpy as np\n",
        "import matplotlib.pyplot as plt\n",
        "\n",
        "start =  0.0\n",
        "end   =  10.0\n",
        "r_0   =  np.array([5.0,0.0]) #m, m/s\n",
        "t_0   =  0.0 #s\n",
        "gamma =  0.0 #kg m/s\n",
        "m     =  1.0 #kg\n",
        "k     =  5.0 #N/m\n",
        "h     =  0.1 #s\n",
        "skip  =  1   #used for plotting the results.\n",
        "\n",
        "def accel(x):\n",
        "  a = -k * x / m\n",
        "  return a\n",
        "\n",
        "def f(r,t):\n",
        "  x = r[0]\n",
        "  v = r[1]\n",
        "  fx = v\n",
        "  fv = accel(x)\n",
        "  return np.array([fx,fv])\n",
        "\n",
        "N = int((end-start)/h) + 1 #determine number of timesteps.\n",
        "\n",
        "#setups the arrays we'll need\n",
        "rpoints = np.zeros(N) #define an array for r values.  Initially set everything to 0.  \n",
        "vpoints = np.zeros(N) #define an array for my r values.  Initially set everything to 0. \n",
        "tpoints = np.zeros(N) #define an array for time values.  Initially set everything to 0.\n",
        "\n",
        "#assign initial values to all arrays based on initial conditions\n",
        "rpoints[0] = r_0[0] #set our initial position\n",
        "vpoints[0] = r_0[1] #set our initial velocity\n",
        "tpoints[0] = t_0 #set our initial time\n",
        "\n",
        "#perform the N timesteps\n",
        "for n in range(N-1):\n",
        "  tpoints[n+1] = h * (n+1)\n",
        "  rpoints[n+1] = rpoints[n] + vpoints[n] * h + 0.5 * accel(rpoints[n]) * h**2\n",
        "  vpoints[n+1] = vpoints[n] + 0.5 * (accel(rpoints[n]) + accel(rpoints[n+1]))*h\n",
        "\n",
        "#Plot our results\n",
        "plt.plot(tpoints[::skip], rpoints[::skip,0])\n",
        "plt.xlabel('t')\n",
        "plt.ylabel('Position (m)')\n",
        "plt.show()\n",
        "\n",
        "plt.plot(tpoints[::skip], rpoints[::skip,1])\n",
        "plt.xlabel('t')\n",
        "plt.ylabel('Velocity (m/s)')\n",
        "plt.show()\n",
        "\n",
        "plt.plot(tpoints[::skip], E_total[::skip])\n",
        "plt.xlabel('t')\n",
        "plt.ylabel('Total Energy (J)')\n",
        "plt.ticklabel_format(useOffset=False, style='plain') #prevents weird behavior with the y-axis\n",
        "plt.show()"
      ],
      "execution_count": null,
      "outputs": [
        {
          "output_type": "error",
          "ename": "IndexError",
          "evalue": "ignored",
          "traceback": [
            "\u001b[0;31m---------------------------------------------------------------------------\u001b[0m",
            "\u001b[0;31mIndexError\u001b[0m                                Traceback (most recent call last)",
            "\u001b[0;32m<ipython-input-2-70b078955760>\u001b[0m in \u001b[0;36m<module>\u001b[0;34m()\u001b[0m\n\u001b[1;32m     42\u001b[0m \u001b[0;34m\u001b[0m\u001b[0m\n\u001b[1;32m     43\u001b[0m \u001b[0;31m#Plot our results\u001b[0m\u001b[0;34m\u001b[0m\u001b[0;34m\u001b[0m\u001b[0;34m\u001b[0m\u001b[0m\n\u001b[0;32m---> 44\u001b[0;31m \u001b[0mplt\u001b[0m\u001b[0;34m.\u001b[0m\u001b[0mplot\u001b[0m\u001b[0;34m(\u001b[0m\u001b[0mtpoints\u001b[0m\u001b[0;34m[\u001b[0m\u001b[0;34m:\u001b[0m\u001b[0mskip\u001b[0m\u001b[0;34m]\u001b[0m\u001b[0;34m,\u001b[0m\u001b[0mrpoints\u001b[0m\u001b[0;34m[\u001b[0m\u001b[0;34m:\u001b[0m\u001b[0mskip\u001b[0m\u001b[0;34m,\u001b[0m\u001b[0;36m0\u001b[0m\u001b[0;34m]\u001b[0m\u001b[0;34m)\u001b[0m\u001b[0;34m\u001b[0m\u001b[0;34m\u001b[0m\u001b[0m\n\u001b[0m\u001b[1;32m     45\u001b[0m \u001b[0mplt\u001b[0m\u001b[0;34m.\u001b[0m\u001b[0mxlabel\u001b[0m\u001b[0;34m(\u001b[0m\u001b[0;34m't'\u001b[0m\u001b[0;34m)\u001b[0m\u001b[0;34m\u001b[0m\u001b[0;34m\u001b[0m\u001b[0m\n\u001b[1;32m     46\u001b[0m \u001b[0mplt\u001b[0m\u001b[0;34m.\u001b[0m\u001b[0mylabel\u001b[0m\u001b[0;34m(\u001b[0m\u001b[0;34m'Position (m)'\u001b[0m\u001b[0;34m)\u001b[0m\u001b[0;34m\u001b[0m\u001b[0;34m\u001b[0m\u001b[0m\n",
            "\u001b[0;31mIndexError\u001b[0m: too many indices for array: array is 1-dimensional, but 2 were indexed"
          ]
        }
      ]
    },
    {
      "cell_type": "code",
      "metadata": {
        "id": "UvhxzPmk-yR4",
        "colab": {
          "base_uri": "https://localhost:8080/",
          "height": 132
        },
        "outputId": "fe2da11a-b58d-44ae-fad7-c19927fcab58"
      },
      "source": [
        "import numpy as np\n",
        "import matplotlib.pyplot as plt\n",
        "\n",
        "#initialize the velocity of each particle as an array of the x an y components\n",
        "v1 = [1, 4]\n",
        "v2 = [3, -5]\n",
        "slope1 = v1[1] / v1[0]\n",
        "slope2 = v2[1] / v2[0]\n",
        "m1 = 10\n",
        "m2 = 20\n",
        "\n",
        "domain = 10\n",
        "\n",
        "xPoints = [0]\n",
        "yPoints = [0]\n",
        "\n",
        "def inelastic:\n",
        "  newV = np.sqrt(((m1 * v1[0] + m2 * v2[0]) / (m1 + m2))**2 + ((m1 * v1[1] + m2 * v2[1]) / (m1 + m2))**2)\n",
        "  #newSlope = newV\n",
        "\n",
        "for i in range(domain)\n",
        "  xPoints.append(i)\n",
        "  yPoints.append(newV * i)\n",
        "\n",
        "'''\n",
        "plt.plot(tpoints[::skip], rpoints[::skip,0])\n",
        "plt.xlabel('t')\n",
        "plt.ylabel('Position (m)')\n",
        "plt.show()\n",
        "\n",
        "plt.plot(tpoints[::skip], rpoints[::skip,1])\n",
        "plt.xlabel('t')\n",
        "plt.ylabel('Velocity (m/s)')\n",
        "plt.show()"
      ],
      "execution_count": 1,
      "outputs": [
        {
          "output_type": "error",
          "ename": "SyntaxError",
          "evalue": "ignored",
          "traceback": [
            "\u001b[0;36m  File \u001b[0;32m\"<ipython-input-1-e4156960b77a>\"\u001b[0;36m, line \u001b[0;32m17\u001b[0m\n\u001b[0;31m    def inelastic:\u001b[0m\n\u001b[0m                 ^\u001b[0m\n\u001b[0;31mSyntaxError\u001b[0m\u001b[0;31m:\u001b[0m invalid syntax\n"
          ]
        }
      ]
    },
    {
      "cell_type": "markdown",
      "metadata": {
        "id": "C9SDJHC613RP"
      },
      "source": [
        "for both the x and y components\n",
        "\n",
        "inelastic: m1v1 + m2v2 = (m1 + m2)v'\n",
        "\n",
        "elastic: m1v1 + m2v2 = m1v'1 + m2v'2"
      ]
    }
  ]
}