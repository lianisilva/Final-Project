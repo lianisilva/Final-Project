{
  "nbformat": 4,
  "nbformat_minor": 0,
  "metadata": {
    "colab": {
      "name": "Final Project",
      "provenance": [],
      "authorship_tag": "ABX9TyOplnq7G198OaNzDQodRsy5",
      "include_colab_link": true
    },
    "kernelspec": {
      "name": "python3",
      "display_name": "Python 3"
    },
    "language_info": {
      "name": "python"
    }
  },
  "cells": [
    {
      "cell_type": "markdown",
      "metadata": {
        "id": "view-in-github",
        "colab_type": "text"
      },
      "source": [
        "<a href=\"https://colab.research.google.com/github/lianisilva/Final-Project/blob/main/Final_Project.ipynb\" target=\"_parent\"><img src=\"https://colab.research.google.com/assets/colab-badge.svg\" alt=\"Open In Colab\"/></a>"
      ]
    },
    {
      "cell_type": "code",
      "metadata": {
        "id": "KzxNr5Jpkz3O"
      },
      "source": [
        "%reset -f"
      ],
      "execution_count": 2,
      "outputs": []
    },
    {
      "cell_type": "code",
      "metadata": {
        "id": "UvhxzPmk-yR4",
        "colab": {
          "base_uri": "https://localhost:8080/",
          "height": 300
        },
        "outputId": "df723988-afdf-4255-b39d-1f2fcc2ea274"
      },
      "source": [
        "import numpy as np\n",
        "import matplotlib.pyplot as plt\n",
        "\n",
        "#initialize the velocity components of each particle as an array of the x an y components, assign masses, calculate slopes and velocity vectors\n",
        "v1C = [1, 4]\n",
        "v2C = [3, -5]\n",
        "v1 = np.sqrt(v1C[0]**2 + v1C[1]**2)\n",
        "v2 = -np.sqrt(v2C[0]**2 + v2C[1]**2)\n",
        "slope1 = v1C[1] / v1C[0]\n",
        "slope2 = v2C[1] / v2C[0]\n",
        "m1 = 10\n",
        "m2 = 20\n",
        "\n",
        "domain = 5\n",
        "\n",
        "#initialize the arrays to be used for graphing, make the first point 0 so they all converge on the center\n",
        "x1Points = [0]\n",
        "y1Points = [0]\n",
        "x2Points = [0]\n",
        "y2Points = [0]\n",
        "\n",
        "newXpoints = [0]\n",
        "newYpoints = [0]\n",
        "newY1points = [0]\n",
        "newY2points = [0]\n",
        "\n",
        "def inelastic():\n",
        "  return (m1 * v1 + m2 * v2) / (m1 + m2)\n",
        "\n",
        "def elastic():\n",
        "  return [(m1 - m2)/(m1 - m2)*v1 , (2*m1)/(m1 + m2)*v1]\n",
        "\n",
        "type = input(\"what type of collision would you like to see? \")\n",
        "if type.lower() == 'inelastic':\n",
        "  newV = inelastic()\n",
        "else:\n",
        "  newV1 = elastic()[0]\n",
        "  newV2 = elastic()[1]\n",
        "\n",
        "for i in range(domain):\n",
        "  x1Points.append(-i)\n",
        "  y1Points.append(-slope1 * i)\n",
        "  x2Points.append(-i)\n",
        "  y2Points.append(-slope2 * i)\n",
        "\n",
        "  newXpoints.append(i)\n",
        "  if type.lower() == 'inelastic':\n",
        "    newYpoints.append(-newV*i)\n",
        "  else:\n",
        "    newY1points.append(newV1*i)\n",
        "    newY2points.append(-newV2*i)\n",
        "\n",
        "print(m1, m2, v1, v2, newV1, newV2)\n",
        "\n",
        "plt.plot(x1Points, y1Points, 'cornflowerblue')\n",
        "plt.plot(x2Points, y2Points, 'mediumorchid')\n",
        "if type.lower() == 'inelastic':\n",
        "  plt.plot(newXpoints, newYpoints, \"salmon\")\n",
        "else:\n",
        "  plt.plot(newXpoints, newY1points, \"salmon\")\n",
        "  plt.plot(newXpoints, newY2points, \"orange\")\n",
        "plt.axhline()\n",
        "plt.axvline()\n",
        "plt.grid()\n",
        "plt.show()\n"
      ],
      "execution_count": 16,
      "outputs": [
        {
          "output_type": "stream",
          "text": [
            "what type of collision would you like to see? c\n",
            "10 20 4.123105625617661 -5.830951894845301 4.123105625617661 2.748737083745107\n"
          ],
          "name": "stdout"
        },
        {
          "output_type": "display_data",
          "data": {
            "image/png": "[encoded data removed]",
            "text/plain": [
              "<Figure size 432x288 with 1 Axes>"
            ]
          },
          "metadata": {
            "tags": [],
            "needs_background": "light"
          }
        }
      ]
    },
    {
      "cell_type": "markdown",
      "metadata": {
        "id": "C9SDJHC613RP"
      },
      "source": [
        "for both the x and y components\n",
        "\n",
        "inelastic: m1v1 + m2v2 = (m1 + m2)v' (momentum)\n",
        "\n",
        "elastic: m1v1 + m2v2 = m1v'1 + m2v'2 (momentum)\n",
        "\n",
        "        0.5(m1*v1**2 + m2*v2**2) = 0.5(m1*v'1**2 + m2*v'2**2) (kinetic energy)\n",
        "\n",
        "        (m1*v1**2 + m2*v2**2)/m1*v'1**2 = m2*v'2**2\n",
        "\n",
        "        sqrt((m1*v1**2 + m2*v2**2)/m1*m2*v'1**2) = v'2\n",
        "\n",
        "        m1v1 + m2v2 = m1v'1 + m2(sqrt((m1*v1**2 + m2*v2**2)/m1*m2*v'1**2)) (combination)\n",
        "\n",
        "        m1v1 + m2v2 = m1v'1 + m2(sqrt((m1*v1**2 + m2*v2**2)/m1*m2))*1/v'1\n",
        "\n",
        "        (m1v1 + m2v2 - m2*sqrt((m1*v1**2 + m2*v2**2)/m1*m2*v'1**2))/m1 = v'1\n"
      ]
    }
  ]
}